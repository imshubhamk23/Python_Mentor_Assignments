{
  "nbformat": 4,
  "nbformat_minor": 0,
  "metadata": {
    "colab": {
      "provenance": [],
      "collapsed_sections": [],
      "include_colab_link": true
    },
    "kernelspec": {
      "name": "python3",
      "display_name": "Python 3"
    },
    "language_info": {
      "name": "python"
    }
  },
  "cells": [
    {
      "cell_type": "markdown",
      "metadata": {
        "id": "view-in-github",
        "colab_type": "text"
      },
      "source": [
        "<a href=\"https://colab.research.google.com/github/imshubhamk23/Python_Mentor_Assignments/blob/main/Copy_of_FSDS_bootcamp_assignment_005_Oct_16.ipynb\" target=\"_parent\"><img src=\"https://colab.research.google.com/assets/colab-badge.svg\" alt=\"Open In Colab\"/></a>"
      ]
    },
    {
      "cell_type": "markdown",
      "source": [
        "# ASSIGNMENTS \n",
        "## Send it before 0000 hrs IST or 12 AM Friday\n",
        "\n",
        "## NOTE: Evaluation will be done before next class.\n",
        "\n",
        "## HOW TO SUBMIT: -\n",
        "Download this notebook, Solve it and upload in the google form given in the mail."
      ],
      "metadata": {
        "id": "dkGbTD94s6CD"
      }
    },
    {
      "cell_type": "markdown",
      "source": [
        "# List, Tuple and Sets"
      ],
      "metadata": {
        "id": "n3FuI-mutNl6"
      }
    },
    {
      "cell_type": "markdown",
      "source": [
        "#### 1. On amazon website we have the following available items - \n",
        "\n",
        "```python\n",
        "amazon_website = [(\"watch\", 5000), (\"phone\", 10000), (\"laptop\", 50000), (\"shirt\", 1000)]\n",
        "```\n",
        "Take the user input N no. of times and find out the total cost to be paid?\n",
        "\n",
        "OR\n",
        "\n",
        "You can ask the user quntity or the count of item?\n",
        "\n",
        "if the item is not present in the amazon website then print that item as out of stock and do add it total\n",
        "\n",
        "\n",
        "HINT: while, for loop.. indexing"
      ],
      "metadata": {
        "id": "hZcGNSR2y9zW"
      }
    },
    {
      "cell_type": "code",
      "source": [
        "amazon_website = [(\"watch\", 5000), (\"phone\", 10000), (\"laptop\", 50000), (\"shirt\", 1000)]\n",
        "total = 0\n",
        "num = 0\n",
        "count = int(input(\"How many items you want to purchase? \"))\n",
        "\n",
        "while num < count:\n",
        "  user = input(\"Enter the item name: \")\n",
        "  for i in amazon_website:\n",
        "    for j in i:\n",
        "      if user == j:\n",
        "        total = amazon_website[0][1] + total\n",
        "        print(f\"Sub Total is: {total}\")\n",
        "        num = num + 1\n",
        "print(f\"Final Cart Value is: {total}\")\n",
        "\n",
        "\n",
        "\n",
        "\n"
      ],
      "metadata": {
        "colab": {
          "base_uri": "https://localhost:8080/"
        },
        "id": "ad6MiixFmoyz",
        "outputId": "fa9c36f4-0209-4525-e2fb-6c4d181e3ef7"
      },
      "execution_count": 18,
      "outputs": [
        {
          "output_type": "stream",
          "name": "stdout",
          "text": [
            "How many items you want to purchase? 3\n",
            "Enter the item name: shirt\n",
            "Sub Total is: 5000\n",
            "Enter the item name: phone\n",
            "Sub Total is: 10000\n",
            "Enter the item name: shirt\n",
            "Sub Total is: 15000\n",
            "Final Cart Value is: 15000\n"
          ]
        }
      ]
    },
    {
      "cell_type": "markdown",
      "source": [
        "#### 2. What will be the output of the following code snippet?\n",
        "\n",
        "```\n",
        "arr = [1, 2, 3, 4, 5, 6]\n",
        "for i in range(1, 6):\n",
        "    arr[i - 1] = arr[i]\n",
        "for i in range(0, 6): \n",
        "    print(arr[i], end = \" \")\n",
        "```"
      ],
      "metadata": {
        "id": "FQrKC2gzzsUm"
      }
    },
    {
      "cell_type": "code",
      "source": [
        "arr = [1, 2, 3, 4, 5, 6]\n",
        "for i in range(1, 6):\n",
        "    arr[i - 1] = arr[i]\n",
        "for i in range(0, 6): \n",
        "    print(arr[i], end = \" \")"
      ],
      "metadata": {
        "colab": {
          "base_uri": "https://localhost:8080/"
        },
        "id": "i6udoCvGyRln",
        "outputId": "c0472df7-3c9f-49cd-c6aa-7e100f6d8173"
      },
      "execution_count": 19,
      "outputs": [
        {
          "output_type": "stream",
          "name": "stdout",
          "text": [
            "2 3 4 5 6 6 "
          ]
        }
      ]
    },
    {
      "cell_type": "markdown",
      "source": [
        "#### 3. Write a Python program to find the repeated items of a tuple."
      ],
      "metadata": {
        "id": "nL_DZJFS0ZZF"
      }
    },
    {
      "cell_type": "code",
      "source": [
        "t = (1,1,2,2,2,3,4,5,6,6,6,7)\n",
        "s = set(t)\n",
        "for i in range(1,len(s)+1):\n",
        "  x = t.count(i)\n",
        "  print(f\"{i} is repeated {x} times \")\n"
      ],
      "metadata": {
        "colab": {
          "base_uri": "https://localhost:8080/"
        },
        "id": "8EkraWUVygSX",
        "outputId": "43f53cee-ed5a-4537-f704-2fb577edc691"
      },
      "execution_count": 62,
      "outputs": [
        {
          "output_type": "stream",
          "name": "stdout",
          "text": [
            "1 is repeated 2 times \n",
            "2 is repeated 3 times \n",
            "3 is repeated 1 times \n",
            "4 is repeated 1 times \n",
            "5 is repeated 1 times \n",
            "6 is repeated 3 times \n",
            "7 is repeated 1 times \n"
          ]
        }
      ]
    },
    {
      "cell_type": "markdown",
      "source": [
        "### 4. Replace last value of tuples in a list with 500. Try using list comprehension\n",
        "\n",
        "Example -: \n",
        "```\n",
        "Input -:\n",
        "\n",
        "[(10, 20, 40), (40, 50, 60), (70, 80, 90)]\n",
        "\n",
        "Output -:\n",
        "[(10, 20, 500), (40, 50, 500), (70, 80, 500)]\n",
        "\n",
        "\n",
        "```\n"
      ],
      "metadata": {
        "id": "ne8WpLZZ1GSm"
      }
    },
    {
      "cell_type": "code",
      "source": [
        "#Here we cannot change the elements of tuple\n",
        "#however we can skip the last item of tuple from printing and concanete it with another tuple\n",
        "#The orignal list however remains the same. \n",
        "l = [(10, 20, 40), (40, 50, 60), (70, 80, 90)]\n",
        "newl = list()\n",
        "for t in l:\n",
        "  t = t[:-1] + (500,)\n",
        "  newl.append(t)\n",
        "print(newl)\n"
      ],
      "metadata": {
        "colab": {
          "base_uri": "https://localhost:8080/"
        },
        "id": "0Ao-fOE48G7Q",
        "outputId": "1f0b4fb2-b46a-4617-910e-c00b868ed7ea"
      },
      "execution_count": 69,
      "outputs": [
        {
          "output_type": "stream",
          "name": "stdout",
          "text": [
            "[(10, 20, 500), (40, 50, 500), (70, 80, 500)]\n"
          ]
        }
      ]
    },
    {
      "cell_type": "code",
      "source": [
        "l = [(10, 20, 40), (40, 50, 60), (70, 80, 90)]\n",
        "for t in l:\n",
        "  print(t[:-1])"
      ],
      "metadata": {
        "id": "YpvH9Di21z-O",
        "colab": {
          "base_uri": "https://localhost:8080/"
        },
        "outputId": "eda8cc71-f339-4896-ed99-ccd5c578c468"
      },
      "execution_count": 70,
      "outputs": [
        {
          "output_type": "stream",
          "name": "stdout",
          "text": [
            "(10, 20)\n",
            "(40, 50)\n",
            "(70, 80)\n"
          ]
        }
      ]
    },
    {
      "cell_type": "code",
      "source": [
        "l = [(10, 20, 40), (40, 50, 60), (70, 80, 90)]\n",
        "print([t[:-1] + (100,) for t in l] )\n",
        "print(l)"
      ],
      "metadata": {
        "id": "mbx4uz9Y2bHk",
        "colab": {
          "base_uri": "https://localhost:8080/"
        },
        "outputId": "d3dd3771-15d0-467a-f61a-9250f9e0569f"
      },
      "execution_count": 75,
      "outputs": [
        {
          "output_type": "stream",
          "name": "stdout",
          "text": [
            "[(10, 20, 100), (40, 50, 100), (70, 80, 100)]\n",
            "[(10, 20, 40), (40, 50, 60), (70, 80, 90)]\n"
          ]
        }
      ]
    }
  ]
}